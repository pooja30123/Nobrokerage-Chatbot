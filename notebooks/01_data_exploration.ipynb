{
 "cells": [
  {
   "cell_type": "markdown",
   "id": "5a815689",
   "metadata": {},
   "source": [
    "# Load Libraries"
   ]
  },
  {
   "cell_type": "code",
   "execution_count": 2,
   "id": "6335c261",
   "metadata": {},
   "outputs": [],
   "source": [
    "import pandas as pd\n",
    "import numpy as np\n",
    "import os\n",
    "pd.set_option('display.max_columns', None)\n"
   ]
  },
  {
   "cell_type": "markdown",
   "id": "2d2bd984",
   "metadata": {},
   "source": [
    "# Load All CSV Files"
   ]
  },
  {
   "cell_type": "code",
   "execution_count": 3,
   "id": "f5b76fe6",
   "metadata": {},
   "outputs": [],
   "source": [
    "data_path = '../data/'\n",
    "projects = pd.read_csv(data_path + 'project.csv')\n",
    "addresses = pd.read_csv(data_path + 'ProjectAddress.csv')\n",
    "configurations = pd.read_csv(data_path + 'ProjectConfiguration.csv')\n",
    "variants = pd.read_csv(data_path + 'ProjectConfigurationVariant.csv')\n"
   ]
  },
  {
   "cell_type": "markdown",
   "id": "0a6e0738",
   "metadata": {},
   "source": [
    "# Explore Projects Data"
   ]
  },
  {
   "cell_type": "code",
   "execution_count": 8,
   "id": "40e76619",
   "metadata": {},
   "outputs": [
    {
     "name": "stdout",
     "output_type": "stream",
     "text": [
      "Projects table first 2 rows:\n"
     ]
    },
    {
     "data": {
      "text/html": [
       "<div>\n",
       "<style scoped>\n",
       "    .dataframe tbody tr th:only-of-type {\n",
       "        vertical-align: middle;\n",
       "    }\n",
       "\n",
       "    .dataframe tbody tr th {\n",
       "        vertical-align: top;\n",
       "    }\n",
       "\n",
       "    .dataframe thead th {\n",
       "        text-align: right;\n",
       "    }\n",
       "</style>\n",
       "<table border=\"1\" class=\"dataframe\">\n",
       "  <thead>\n",
       "    <tr style=\"text-align: right;\">\n",
       "      <th></th>\n",
       "      <th>id</th>\n",
       "      <th>projectType</th>\n",
       "      <th>projectName</th>\n",
       "      <th>projectCategory</th>\n",
       "      <th>slug</th>\n",
       "      <th>slugId</th>\n",
       "      <th>status</th>\n",
       "      <th>projectAge</th>\n",
       "      <th>reraId</th>\n",
       "      <th>countryId</th>\n",
       "      <th>stateId</th>\n",
       "      <th>cityId</th>\n",
       "      <th>localityId</th>\n",
       "      <th>subLocalityId</th>\n",
       "      <th>projectSummary</th>\n",
       "      <th>possessionDate</th>\n",
       "    </tr>\n",
       "  </thead>\n",
       "  <tbody>\n",
       "    <tr>\n",
       "      <th>0</th>\n",
       "      <td>cmf53kkzy000fvcu8tx8jwjmr</td>\n",
       "      <td>RESIDENTIAL</td>\n",
       "      <td>Ashwini</td>\n",
       "      <td>STANDALONE</td>\n",
       "      <td>luxury-ashwini-ashoknagar-chembur-mumbai-675058</td>\n",
       "      <td>NaN</td>\n",
       "      <td>UNDER_CONSTRUCTION</td>\n",
       "      <td>NaN</td>\n",
       "      <td>[\"P99000056045\"]</td>\n",
       "      <td>cmfw6qdtd0000vx6uelma0klf</td>\n",
       "      <td>cmf3ze56e0002vcf8e0hjqnsw</td>\n",
       "      <td>cmf6nu3ru000gvcxspxarll3v</td>\n",
       "      <td>cmf6pksk30035vcxs7r2mo3iq</td>\n",
       "      <td>cmfdkuymm0001vc90iiyzkr8d</td>\n",
       "      <td>NaN</td>\n",
       "      <td>2025-09-28 00:00:00</td>\n",
       "    </tr>\n",
       "    <tr>\n",
       "      <th>1</th>\n",
       "      <td>cmf5r6hv00001vxptnfichhfl</td>\n",
       "      <td>RESIDENTIAL</td>\n",
       "      <td>Pristine02</td>\n",
       "      <td>STANDALONE</td>\n",
       "      <td>pristine02-modelcolony-shivajinagar-pune-428955</td>\n",
       "      <td>NaN</td>\n",
       "      <td>READY_TO_MOVE</td>\n",
       "      <td>0.0</td>\n",
       "      <td>[\"P52100032109\"]</td>\n",
       "      <td>cmf3zcoe80000vcf8sd4qfpwd</td>\n",
       "      <td>cmf3ze56e0002vcf8e0hjqnsw</td>\n",
       "      <td>cmf6nu3ru000gvcxspxarll3v</td>\n",
       "      <td>cmf6pk0cn0033vcxshxbf5hdh</td>\n",
       "      <td>cmfdn705v001pvc90uyle9m34</td>\n",
       "      <td>NaN</td>\n",
       "      <td>NaN</td>\n",
       "    </tr>\n",
       "  </tbody>\n",
       "</table>\n",
       "</div>"
      ],
      "text/plain": [
       "                          id  projectType projectName projectCategory  \\\n",
       "0  cmf53kkzy000fvcu8tx8jwjmr  RESIDENTIAL     Ashwini      STANDALONE   \n",
       "1  cmf5r6hv00001vxptnfichhfl  RESIDENTIAL  Pristine02      STANDALONE   \n",
       "\n",
       "                                              slug  slugId  \\\n",
       "0  luxury-ashwini-ashoknagar-chembur-mumbai-675058     NaN   \n",
       "1  pristine02-modelcolony-shivajinagar-pune-428955     NaN   \n",
       "\n",
       "               status  projectAge            reraId  \\\n",
       "0  UNDER_CONSTRUCTION         NaN  [\"P99000056045\"]   \n",
       "1       READY_TO_MOVE         0.0  [\"P52100032109\"]   \n",
       "\n",
       "                   countryId                    stateId  \\\n",
       "0  cmfw6qdtd0000vx6uelma0klf  cmf3ze56e0002vcf8e0hjqnsw   \n",
       "1  cmf3zcoe80000vcf8sd4qfpwd  cmf3ze56e0002vcf8e0hjqnsw   \n",
       "\n",
       "                      cityId                 localityId  \\\n",
       "0  cmf6nu3ru000gvcxspxarll3v  cmf6pksk30035vcxs7r2mo3iq   \n",
       "1  cmf6nu3ru000gvcxspxarll3v  cmf6pk0cn0033vcxshxbf5hdh   \n",
       "\n",
       "               subLocalityId projectSummary       possessionDate  \n",
       "0  cmfdkuymm0001vc90iiyzkr8d            NaN  2025-09-28 00:00:00  \n",
       "1  cmfdn705v001pvc90uyle9m34            NaN                  NaN  "
      ]
     },
     "execution_count": 8,
     "metadata": {},
     "output_type": "execute_result"
    }
   ],
   "source": [
    "print(\"Projects table first 2 rows:\")\n",
    "projects.head(2)\n"
   ]
  },
  {
   "cell_type": "code",
   "execution_count": 23,
   "id": "1f7171ab",
   "metadata": {},
   "outputs": [
    {
     "name": "stdout",
     "output_type": "stream",
     "text": [
      "Project status counts:\n",
      "status\n",
      "UNDER_CONSTRUCTION    26\n",
      "READY_TO_MOVE          5\n",
      "Name: count, dtype: int64\n"
     ]
    }
   ],
   "source": [
    "print(\"Project status counts:\")\n",
    "print(projects['status'].value_counts())"
   ]
  },
  {
   "cell_type": "code",
   "execution_count": 9,
   "id": "e9733e19",
   "metadata": {},
   "outputs": [
    {
     "name": "stdout",
     "output_type": "stream",
     "text": [
      "Addresses table first 2 rows:\n"
     ]
    },
    {
     "data": {
      "text/html": [
       "<div>\n",
       "<style scoped>\n",
       "    .dataframe tbody tr th:only-of-type {\n",
       "        vertical-align: middle;\n",
       "    }\n",
       "\n",
       "    .dataframe tbody tr th {\n",
       "        vertical-align: top;\n",
       "    }\n",
       "\n",
       "    .dataframe thead th {\n",
       "        text-align: right;\n",
       "    }\n",
       "</style>\n",
       "<table border=\"1\" class=\"dataframe\">\n",
       "  <thead>\n",
       "    <tr style=\"text-align: right;\">\n",
       "      <th></th>\n",
       "      <th>id</th>\n",
       "      <th>projectId</th>\n",
       "      <th>landmark</th>\n",
       "      <th>fullAddress</th>\n",
       "      <th>pincode</th>\n",
       "    </tr>\n",
       "  </thead>\n",
       "  <tbody>\n",
       "    <tr>\n",
       "      <th>0</th>\n",
       "      <td>cmf53kl01000nvcu8ibut7fka</td>\n",
       "      <td>cmf53kkzy000fvcu8tx8jwjmr</td>\n",
       "      <td>Babys school</td>\n",
       "      <td>Mumbai chembur</td>\n",
       "      <td>411017</td>\n",
       "    </tr>\n",
       "    <tr>\n",
       "      <th>1</th>\n",
       "      <td>cmf5r6hv30008vxptq5el3h5n</td>\n",
       "      <td>cmf5r6hv00001vxptnfichhfl</td>\n",
       "      <td>Sai nagar</td>\n",
       "      <td>sr no 13 beside godrej, opposite to mca stadiu...</td>\n",
       "      <td>412101</td>\n",
       "    </tr>\n",
       "  </tbody>\n",
       "</table>\n",
       "</div>"
      ],
      "text/plain": [
       "                          id                  projectId      landmark  \\\n",
       "0  cmf53kl01000nvcu8ibut7fka  cmf53kkzy000fvcu8tx8jwjmr  Babys school   \n",
       "1  cmf5r6hv30008vxptq5el3h5n  cmf5r6hv00001vxptnfichhfl    Sai nagar    \n",
       "\n",
       "                                         fullAddress  pincode  \n",
       "0                                     Mumbai chembur   411017  \n",
       "1  sr no 13 beside godrej, opposite to mca stadiu...   412101  "
      ]
     },
     "execution_count": 9,
     "metadata": {},
     "output_type": "execute_result"
    }
   ],
   "source": [
    "print(\"Addresses table first 2 rows:\")\n",
    "addresses.head(2)\n"
   ]
  },
  {
   "cell_type": "code",
   "execution_count": 7,
   "id": "6d85c22f",
   "metadata": {},
   "outputs": [
    {
     "name": "stdout",
     "output_type": "stream",
     "text": [
      "Configurations table first 2 rows:\n"
     ]
    },
    {
     "data": {
      "text/html": [
       "<div>\n",
       "<style scoped>\n",
       "    .dataframe tbody tr th:only-of-type {\n",
       "        vertical-align: middle;\n",
       "    }\n",
       "\n",
       "    .dataframe tbody tr th {\n",
       "        vertical-align: top;\n",
       "    }\n",
       "\n",
       "    .dataframe thead th {\n",
       "        text-align: right;\n",
       "    }\n",
       "</style>\n",
       "<table border=\"1\" class=\"dataframe\">\n",
       "  <thead>\n",
       "    <tr style=\"text-align: right;\">\n",
       "      <th></th>\n",
       "      <th>id</th>\n",
       "      <th>projectId</th>\n",
       "      <th>propertyCategory</th>\n",
       "      <th>type</th>\n",
       "      <th>customBHK</th>\n",
       "    </tr>\n",
       "  </thead>\n",
       "  <tbody>\n",
       "    <tr>\n",
       "      <th>0</th>\n",
       "      <td>cmf53kkzz000ivcu89r5399s4</td>\n",
       "      <td>cmf53kkzy000fvcu8tx8jwjmr</td>\n",
       "      <td>RESIDENTIAL</td>\n",
       "      <td>1BHK</td>\n",
       "      <td>NaN</td>\n",
       "    </tr>\n",
       "    <tr>\n",
       "      <th>1</th>\n",
       "      <td>cmf53kl00000kvcu86ivy65di</td>\n",
       "      <td>cmf53kkzy000fvcu8tx8jwjmr</td>\n",
       "      <td>RESIDENTIAL</td>\n",
       "      <td>2BHK</td>\n",
       "      <td>NaN</td>\n",
       "    </tr>\n",
       "  </tbody>\n",
       "</table>\n",
       "</div>"
      ],
      "text/plain": [
       "                          id                  projectId propertyCategory  \\\n",
       "0  cmf53kkzz000ivcu89r5399s4  cmf53kkzy000fvcu8tx8jwjmr      RESIDENTIAL   \n",
       "1  cmf53kl00000kvcu86ivy65di  cmf53kkzy000fvcu8tx8jwjmr      RESIDENTIAL   \n",
       "\n",
       "   type customBHK  \n",
       "0  1BHK       NaN  \n",
       "1  2BHK       NaN  "
      ]
     },
     "execution_count": 7,
     "metadata": {},
     "output_type": "execute_result"
    }
   ],
   "source": [
    "print(\"Configurations table first 2 rows:\")\n",
    "configurations.head(2)\n"
   ]
  },
  {
   "cell_type": "code",
   "execution_count": 10,
   "id": "7d655a9d",
   "metadata": {},
   "outputs": [
    {
     "name": "stdout",
     "output_type": "stream",
     "text": [
      "Variants table first 2 rows:\n"
     ]
    },
    {
     "data": {
      "text/html": [
       "<div>\n",
       "<style scoped>\n",
       "    .dataframe tbody tr th:only-of-type {\n",
       "        vertical-align: middle;\n",
       "    }\n",
       "\n",
       "    .dataframe tbody tr th {\n",
       "        vertical-align: top;\n",
       "    }\n",
       "\n",
       "    .dataframe thead th {\n",
       "        text-align: right;\n",
       "    }\n",
       "</style>\n",
       "<table border=\"1\" class=\"dataframe\">\n",
       "  <thead>\n",
       "    <tr style=\"text-align: right;\">\n",
       "      <th></th>\n",
       "      <th>id</th>\n",
       "      <th>configurationId</th>\n",
       "      <th>bathrooms</th>\n",
       "      <th>privateBathrooms</th>\n",
       "      <th>publicBathrooms</th>\n",
       "      <th>balcony</th>\n",
       "      <th>furnishedType</th>\n",
       "      <th>furnishingType</th>\n",
       "      <th>lift</th>\n",
       "      <th>ageOfProperty</th>\n",
       "      <th>parkingType</th>\n",
       "      <th>listingType</th>\n",
       "      <th>floorPlanImage</th>\n",
       "      <th>carpetArea</th>\n",
       "      <th>price</th>\n",
       "      <th>propertyImages</th>\n",
       "      <th>maintenanceCharges</th>\n",
       "      <th>aboutProperty</th>\n",
       "      <th>createdAt</th>\n",
       "      <th>updatedAt</th>\n",
       "    </tr>\n",
       "  </thead>\n",
       "  <tbody>\n",
       "    <tr>\n",
       "      <th>0</th>\n",
       "      <td>cmf5r6hv20005vxpt3yfnl2qp</td>\n",
       "      <td>cmf5r6hv20004vxpt0l657blu</td>\n",
       "      <td>12</td>\n",
       "      <td>NaN</td>\n",
       "      <td>NaN</td>\n",
       "      <td>3.0</td>\n",
       "      <td>UNFURNISHED</td>\n",
       "      <td>[]</td>\n",
       "      <td>False</td>\n",
       "      <td>NaN</td>\n",
       "      <td>NaN</td>\n",
       "      <td>Sell</td>\n",
       "      <td>https://pub-d28896f69c604ec5aa743cb0397740d9.r...</td>\n",
       "      <td>972.00</td>\n",
       "      <td>120000000</td>\n",
       "      <td>[\"https://pub-d28896f69c604ec5aa743cb0397740d9...</td>\n",
       "      <td>faded</td>\n",
       "      <td>about property</td>\n",
       "      <td>2025-09-04 18:42:08.748</td>\n",
       "      <td>2025-09-04 18:42:08.748</td>\n",
       "    </tr>\n",
       "    <tr>\n",
       "      <th>1</th>\n",
       "      <td>cmf5r6hv20006vxptcx3lmm05</td>\n",
       "      <td>cmf5r6hv20004vxpt0l657blu</td>\n",
       "      <td>3</td>\n",
       "      <td>NaN</td>\n",
       "      <td>NaN</td>\n",
       "      <td>2.0</td>\n",
       "      <td>UNFURNISHED</td>\n",
       "      <td>[]</td>\n",
       "      <td>False</td>\n",
       "      <td>NaN</td>\n",
       "      <td>NaN</td>\n",
       "      <td>Sell</td>\n",
       "      <td>https://pub-d28896f69c604ec5aa743cb0397740d9.r...</td>\n",
       "      <td>188.73</td>\n",
       "      <td>210000000</td>\n",
       "      <td>[\"https://pub-d28896f69c604ec5aa743cb0397740d9...</td>\n",
       "      <td>NaN</td>\n",
       "      <td>fsdaffdsafsfdddsa</td>\n",
       "      <td>2025-09-04 18:42:08.748</td>\n",
       "      <td>2025-09-04 18:42:08.748</td>\n",
       "    </tr>\n",
       "  </tbody>\n",
       "</table>\n",
       "</div>"
      ],
      "text/plain": [
       "                          id            configurationId  bathrooms  \\\n",
       "0  cmf5r6hv20005vxpt3yfnl2qp  cmf5r6hv20004vxpt0l657blu         12   \n",
       "1  cmf5r6hv20006vxptcx3lmm05  cmf5r6hv20004vxpt0l657blu          3   \n",
       "\n",
       "   privateBathrooms  publicBathrooms  balcony furnishedType furnishingType  \\\n",
       "0               NaN              NaN      3.0   UNFURNISHED             []   \n",
       "1               NaN              NaN      2.0   UNFURNISHED             []   \n",
       "\n",
       "    lift  ageOfProperty  parkingType listingType  \\\n",
       "0  False            NaN          NaN        Sell   \n",
       "1  False            NaN          NaN        Sell   \n",
       "\n",
       "                                      floorPlanImage  carpetArea      price  \\\n",
       "0  https://pub-d28896f69c604ec5aa743cb0397740d9.r...      972.00  120000000   \n",
       "1  https://pub-d28896f69c604ec5aa743cb0397740d9.r...      188.73  210000000   \n",
       "\n",
       "                                      propertyImages maintenanceCharges  \\\n",
       "0  [\"https://pub-d28896f69c604ec5aa743cb0397740d9...             faded    \n",
       "1  [\"https://pub-d28896f69c604ec5aa743cb0397740d9...                NaN   \n",
       "\n",
       "       aboutProperty                createdAt                updatedAt  \n",
       "0    about property   2025-09-04 18:42:08.748  2025-09-04 18:42:08.748  \n",
       "1  fsdaffdsafsfdddsa  2025-09-04 18:42:08.748  2025-09-04 18:42:08.748  "
      ]
     },
     "execution_count": 10,
     "metadata": {},
     "output_type": "execute_result"
    }
   ],
   "source": [
    "print(\"Variants table first 2 rows:\")\n",
    "variants.head(2)\n"
   ]
  },
  {
   "cell_type": "markdown",
   "id": "ae814d8c",
   "metadata": {},
   "source": [
    "# Check BHK and prices"
   ]
  },
  {
   "cell_type": "code",
   "execution_count": 21,
   "id": "c4360ec2",
   "metadata": {},
   "outputs": [
    {
     "name": "stdout",
     "output_type": "stream",
     "text": [
      "BHK types available:\n",
      "type\n",
      "2BHK            23\n",
      "3BHK            15\n",
      "1BHK            13\n",
      "4.5BHK           2\n",
      "4BHK             2\n",
      "Office           1\n",
      "Office space     1\n",
      "5BHK             1\n",
      "House_Villa      1\n",
      "1RK              1\n",
      "Name: count, dtype: int64\n",
      "\n",
      "Price range:\n",
      "Min: ₹0.08 Cr\n"
     ]
    }
   ],
   "source": [
    "print(\"BHK types available:\")\n",
    "print(configurations['type'].value_counts())\n",
    "variants['price'] = pd.to_numeric(variants['price'], errors='coerce')\n",
    "variants['price_crore'] = variants['price'] / 10000000\n",
    "print(\"\\nPrice range:\")\n",
    "print(f\"Min: ₹{variants['price_crore'].min():.2f} Cr\")\n"
   ]
  },
  {
   "cell_type": "markdown",
   "id": "7c767680",
   "metadata": {},
   "source": [
    "# Merge all tables"
   ]
  },
  {
   "cell_type": "code",
   "execution_count": 22,
   "id": "02f31822",
   "metadata": {},
   "outputs": [
    {
     "name": "stdout",
     "output_type": "stream",
     "text": [
      "Merged data shape: (83, 47)\n",
      "Total rows: 83\n",
      "\n",
      "Sample merged data:\n",
      "  projectName  type      price        landmark  carpetArea\n",
      "0     Ashwini  1BHK   11111111    Babys school      123.00\n",
      "1     Ashwini  2BHK   22222222    Babys school      456.00\n",
      "2  Pristine02  2BHK  120000000      Sai nagar       972.00\n",
      "3  Pristine02  2BHK  210000000      Sai nagar       188.73\n",
      "4   Gurukripa  1BHK   13000000  Sindhi Society      426.57\n"
     ]
    }
   ],
   "source": [
    "# Combine all 4 tables\n",
    "df = projects.merge(addresses, left_on='id', right_on='projectId', how='left')\n",
    "df = df.merge(configurations, left_on='id_x', right_on='projectId', how='left', suffixes=('', '_config'))\n",
    "df = df.merge(variants, left_on='id', right_on='configurationId', how='left', suffixes=('', '_variant'))\n",
    "\n",
    "print(f\"Merged data shape: {df.shape}\")\n",
    "print(f\"Total rows: {len(df)}\")\n",
    "\n",
    "print(\"\\nSample merged data:\")\n",
    "print(df[['projectName', 'type', 'price', 'landmark', 'carpetArea']].head(5))\n"
   ]
  },
  {
   "cell_type": "markdown",
   "id": "d7485fff",
   "metadata": {},
   "source": [
    "# Clean and Save Master Data"
   ]
  },
  {
   "cell_type": "code",
   "execution_count": 27,
   "id": "940bcb16",
   "metadata": {},
   "outputs": [
    {
     "name": "stdout",
     "output_type": "stream",
     "text": [
      "Master data created successfully!\n",
      "Total properties: 83\n",
      "1BHK: 18\n",
      "2BHK: 37\n",
      "3BHK: 18\n",
      "Others (Office, Villa, RK): 5\n"
     ]
    }
   ],
   "source": [
    "# Select only important columns we need\n",
    "important_cols = [\n",
    "    'projectName', \n",
    "    'status', \n",
    "    'type',\n",
    "    'landmark', \n",
    "    'fullAddress', \n",
    "    'pincode',\n",
    "    'price', \n",
    "    'carpetArea', \n",
    "    'bathrooms',\n",
    "    'balcony',\n",
    "    'possessionDate',\n",
    "    'floorPlanImage'\n",
    "]\n",
    "\n",
    "# Create clean dataframe\n",
    "master_df = df[important_cols].copy()\n",
    "\n",
    "# Add calculated columns\n",
    "master_df['price_crore'] = master_df['price'] / 10000000\n",
    "master_df['price_lakh'] = master_df['price'] / 100000\n",
    "\n",
    "# Extract BHK number - using raw string r'' to avoid warning\n",
    "master_df['bhk_number'] = master_df['type'].str.extract(r'(\\d+)', expand=False)\n",
    "master_df['bhk_number'] = pd.to_numeric(master_df['bhk_number'], errors='coerce')\n",
    "\n",
    "# Check if property is ready\n",
    "master_df['is_ready'] = master_df['status'] == 'READY_TO_MOVE'\n",
    "\n",
    "# Save to CSV\n",
    "master_df.to_csv('../data/master_properties.csv', index=False)\n",
    "\n",
    "print(\"Master data created successfully!\")\n",
    "print(f\"Total properties: {len(master_df)}\")\n",
    "print(f\"1BHK: {(master_df['bhk_number']==1).sum()}\")\n",
    "print(f\"2BHK: {(master_df['bhk_number']==2).sum()}\")\n",
    "print(f\"3BHK: {(master_df['bhk_number']==3).sum()}\")\n",
    "print(f\"Others (Office, Villa, RK): {master_df['bhk_number'].isna().sum()}\")\n"
   ]
  },
  {
   "cell_type": "code",
   "execution_count": null,
   "id": "eb300442",
   "metadata": {},
   "outputs": [],
   "source": []
  }
 ],
 "metadata": {
  "kernelspec": {
   "display_name": "nobrokerage_env (3.12.7)",
   "language": "python",
   "name": "python3"
  },
  "language_info": {
   "codemirror_mode": {
    "name": "ipython",
    "version": 3
   },
   "file_extension": ".py",
   "mimetype": "text/x-python",
   "name": "python",
   "nbconvert_exporter": "python",
   "pygments_lexer": "ipython3",
   "version": "3.12.7"
  }
 },
 "nbformat": 4,
 "nbformat_minor": 5
}
